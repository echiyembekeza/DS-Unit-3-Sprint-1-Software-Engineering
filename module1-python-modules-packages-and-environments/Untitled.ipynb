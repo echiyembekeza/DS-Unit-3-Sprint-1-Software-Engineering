{
 "cells": [
  {
   "cell_type": "code",
   "execution_count": 1,
   "metadata": {},
   "outputs": [
    {
     "name": "stdout",
     "output_type": "stream",
     "text": [
      "Looking in indexes: https://test.pypi.org/simple/\n",
      "Collecting lambdata-echiyembekeza==0.0.1\n",
      "  Downloading https://test-files.pythonhosted.org/packages/ad/54/05465ae60d9a89632fc53d6b438a137836670b059d40b925e4ea6bd77a01/lambdata_echiyembekeza-0.0.1-py3-none-any.whl\n",
      "Requirement already satisfied: numpy in /Users/ericchiyembekeza/anaconda3/lib/python3.7/site-packages (from lambdata-echiyembekeza==0.0.1) (1.16.2)\n",
      "Requirement already satisfied: pandas in /Users/ericchiyembekeza/anaconda3/lib/python3.7/site-packages (from lambdata-echiyembekeza==0.0.1) (0.25.0)\n",
      "Requirement already satisfied: python-dateutil>=2.6.1 in /Users/ericchiyembekeza/anaconda3/lib/python3.7/site-packages (from pandas->lambdata-echiyembekeza==0.0.1) (2.8.0)\n",
      "Requirement already satisfied: pytz>=2017.2 in /Users/ericchiyembekeza/anaconda3/lib/python3.7/site-packages (from pandas->lambdata-echiyembekeza==0.0.1) (2018.9)\n",
      "Requirement already satisfied: six>=1.5 in /Users/ericchiyembekeza/anaconda3/lib/python3.7/site-packages (from python-dateutil>=2.6.1->pandas->lambdata-echiyembekeza==0.0.1) (1.10.0)\n",
      "Installing collected packages: lambdata-echiyembekeza\n",
      "Successfully installed lambdata-echiyembekeza-0.0.1\n",
      "Note: you may need to restart the kernel to use updated packages.\n"
     ]
    }
   ],
   "source": [
    "pip install -i https://test.pypi.org/simple/ lambdata-echiyembekeza==0.0.1"
   ]
  },
  {
   "cell_type": "code",
   "execution_count": 2,
   "metadata": {},
   "outputs": [],
   "source": [
    "import lambdata_echiyembekeza"
   ]
  },
  {
   "cell_type": "code",
   "execution_count": 3,
   "metadata": {},
   "outputs": [
    {
     "data": {
      "text/plain": [
       "['ONES',\n",
       " 'ZEROS',\n",
       " '__builtins__',\n",
       " '__cached__',\n",
       " '__doc__',\n",
       " '__file__',\n",
       " '__loader__',\n",
       " '__name__',\n",
       " '__package__',\n",
       " '__path__',\n",
       " '__spec__',\n",
       " 'np',\n",
       " 'pd']"
      ]
     },
     "execution_count": 3,
     "metadata": {},
     "output_type": "execute_result"
    }
   ],
   "source": [
    "dir(lambdata_echiyembekeza)"
   ]
  },
  {
   "cell_type": "code",
   "execution_count": 4,
   "metadata": {},
   "outputs": [],
   "source": [
    "from lambdata_echiyembekeza import fibo"
   ]
  },
  {
   "cell_type": "code",
   "execution_count": 5,
   "metadata": {},
   "outputs": [
    {
     "name": "stdout",
     "output_type": "stream",
     "text": [
      "0 1 1 2 3 5 8 13 21 34 55 89 144 233 377 610 987 1597 2584 4181 6765 \n"
     ]
    }
   ],
   "source": [
    "fibo.fib(10000)"
   ]
  },
  {
   "cell_type": "code",
   "execution_count": 6,
   "metadata": {},
   "outputs": [
    {
     "data": {
      "text/plain": [
       "[0,\n",
       " 1,\n",
       " 1,\n",
       " 2,\n",
       " 3,\n",
       " 5,\n",
       " 8,\n",
       " 13,\n",
       " 21,\n",
       " 34,\n",
       " 55,\n",
       " 89,\n",
       " 144,\n",
       " 233,\n",
       " 377,\n",
       " 610,\n",
       " 987,\n",
       " 1597,\n",
       " 2584,\n",
       " 4181,\n",
       " 6765]"
      ]
     },
     "execution_count": 6,
     "metadata": {},
     "output_type": "execute_result"
    }
   ],
   "source": [
    "fibo.fib2(10000)"
   ]
  },
  {
   "cell_type": "code",
   "execution_count": null,
   "metadata": {},
   "outputs": [],
   "source": []
  }
 ],
 "metadata": {
  "kernelspec": {
   "display_name": "Python 3",
   "language": "python",
   "name": "python3"
  },
  "language_info": {
   "codemirror_mode": {
    "name": "ipython",
    "version": 3
   },
   "file_extension": ".py",
   "mimetype": "text/x-python",
   "name": "python",
   "nbconvert_exporter": "python",
   "pygments_lexer": "ipython3",
   "version": "3.7.3"
  }
 },
 "nbformat": 4,
 "nbformat_minor": 2
}
